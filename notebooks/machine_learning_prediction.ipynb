{
 "cells": [
  {
   "cell_type": "markdown",
   "metadata": {},
   "source": [
    "# Space X Falcon 9 First Stage Landing Prediction\n",
    "### **Machine Learning Prediction**\n",
    "![Falcon 9](../images/falcon9.webp)\n",
    "### Objective:\n",
    "* Perform Exploratory Data Analysis (EDA)\n",
    "* Determine Training Labels."
   ]
  },
  {
   "cell_type": "markdown",
   "metadata": {},
   "source": [
    "# Author \n",
    "[Helena Pedro](https://www.linkedin.com/in/helena-mbeua-pedro/) is a Data Scientist at Millennium Atlantic Bank in Angola. She is a Creative big thinker passionated about using data and optimization tools to direct decision making and solve complex and large-scale challenges.\n",
    "- **Email:** mbeua94@gmail.com\n",
    "\n",
    "\n",
    "© 2024 "
   ]
  }
 ],
 "metadata": {
  "language_info": {
   "name": "python"
  }
 },
 "nbformat": 4,
 "nbformat_minor": 2
}
